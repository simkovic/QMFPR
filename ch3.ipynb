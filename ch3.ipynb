{
 "cells": [
  {
   "cell_type": "markdown",
   "metadata": {},
   "source": [
    "We already obtained a language to talk about cognitive models and hence to express our domain-specific knowledge about cognition. In this and in the next section we will introduce two additional languages. The language of this section will tell us how data inform our domain-specific knowledge. This task is called inference and is most commonly attributed to statistics. The language we will learn in this section is called Probability Theory. \n",
    "\n",
    "Before we turn to probability we will survey one additional language. We won't use this language for data analysis. The main purpose of this digression is to provide you with an understanding of what a language is, what it does for you and by extension what probability theory is and what it does for you. We will discuss propositional logic. Propisitional logic is very simple which makes easy to grasp, easy to extend and useless at the same time. "
   ]
  },
  {
   "cell_type": "code",
   "execution_count": 94,
   "metadata": {
    "collapsed": false
   },
   "outputs": [
    {
     "name": "stdout",
     "output_type": "stream",
     "text": [
      "Populating the interactive namespace from numpy and matplotlib\n"
     ]
    }
   ],
   "source": [
    "%pylab inline\n",
    "from matustools.matustats import latinSquare\n",
    "\n",
    "class ListTable(list):\n",
    "    \"\"\" Overridden list class which takes a 2-dimensional list of \n",
    "        the form [[1,2,3],[4,5,6]], and renders an HTML Table in \n",
    "        IPython Notebook. \"\"\"\n",
    "    def _repr_html_(self):\n",
    "        html = [\"<table>\"]\n",
    "        for row in self:\n",
    "            html.append(\"<tr>\")\n",
    "            \n",
    "            for col in row:\n",
    "                html.append(\"<td>{0}</td>\".format(col))\n",
    "            \n",
    "            html.append(\"</tr>\")\n",
    "        html.append(\"</table>\")\n",
    "        return ''.join(html)\n",
    "\n",
    "\n",
    "def boolTab(N=1):\n",
    "    header=[]\n",
    "    for n in range(N): header.append('$x_{'+str(n+1)+'}$')\n",
    "    for k in range(2**(2**N)):\n",
    "        header.append('$f_{'+str(k+1+(N==2)*4)+'}$')\n",
    "    a=latinSquare(N)\n",
    "    b=latinSquare(2**N)\n",
    "    c=np.concatenate([a,b.T],axis=1)\n",
    "    c=np.array(c,dtype=np.str)\n",
    "    c[c=='1']='$\\mathrm{T}$'\n",
    "    c[c=='0']='$\\mathrm{F}$'\n",
    "    return ListTable(np.concatenate([[header],c]))"
   ]
  },
  {
   "cell_type": "markdown",
   "metadata": {},
   "source": [
    "Propositional logic is a language that operates with boolean values. We will use the mathematical notation we learned in the previous section talk about it. We consider boolean variables which can only take two values $\\mathrm{True}$ and $\\mathrm{False}$ which we will abbreviate to $\\mathrm{T}$ and $\\mathrm{F}$. We consider functions that have boolean variables as an input and output. There are not many of them. There are only four functions with a single argument."
   ]
  },
  {
   "cell_type": "code",
   "execution_count": 83,
   "metadata": {
    "collapsed": false
   },
   "outputs": [
    {
     "data": {
      "text/html": [
       "<table><tr><td>$x_{1}$</td><td>$f_{1}$</td><td>$f_{2}$</td><td>$f_{3}$</td><td>$f_{4}$</td></tr><tr><td>$\\mathrm{F}$</td><td>$\\mathrm{F}$</td><td>$\\mathrm{F}$</td><td>$\\mathrm{T}$</td><td>$\\mathrm{T}$</td></tr><tr><td>$\\mathrm{T}$</td><td>$\\mathrm{F}$</td><td>$\\mathrm{T}$</td><td>$\\mathrm{F}$</td><td>$\\mathrm{T}$</td></tr></table>"
      ],
      "text/plain": [
       "[array(['$x_{1}$', '$f_{1}$', '$f_{2}$', '$f_{3}$', '$f_{4}$'], \n",
       "       dtype='|S21'),\n",
       " array(['$\\\\mathrm{F}$', '$\\\\mathrm{F}$', '$\\\\mathrm{F}$', '$\\\\mathrm{T}$',\n",
       "        '$\\\\mathrm{T}$'], \n",
       "       dtype='|S21'),\n",
       " array(['$\\\\mathrm{T}$', '$\\\\mathrm{F}$', '$\\\\mathrm{T}$', '$\\\\mathrm{F}$',\n",
       "        '$\\\\mathrm{T}$'], \n",
       "       dtype='|S21')]"
      ]
     },
     "execution_count": 83,
     "metadata": {},
     "output_type": "execute_result"
    }
   ],
   "source": [
    "boolTab(1)"
   ]
  },
  {
   "cell_type": "markdown",
   "metadata": {},
   "source": [
    "The first row lists two possible input values and the remaining four columns list all possible outputs for those inputs. There are sixteen functions with two arguments."
   ]
  },
  {
   "cell_type": "code",
   "execution_count": 84,
   "metadata": {
    "collapsed": false
   },
   "outputs": [
    {
     "data": {
      "text/html": [
       "<table><tr><td>$x_{1}$</td><td>$x_{2}$</td><td>$f_{5}$</td><td>$f_{6}$</td><td>$f_{7}$</td><td>$f_{8}$</td><td>$f_{9}$</td><td>$f_{10}$</td><td>$f_{11}$</td><td>$f_{12}$</td><td>$f_{13}$</td><td>$f_{14}$</td><td>$f_{15}$</td><td>$f_{16}$</td><td>$f_{17}$</td><td>$f_{18}$</td><td>$f_{19}$</td><td>$f_{20}$</td></tr><tr><td>$\\mathrm{F}$</td><td>$\\mathrm{F}$</td><td>$\\mathrm{F}$</td><td>$\\mathrm{F}$</td><td>$\\mathrm{F}$</td><td>$\\mathrm{F}$</td><td>$\\mathrm{F}$</td><td>$\\mathrm{F}$</td><td>$\\mathrm{F}$</td><td>$\\mathrm{F}$</td><td>$\\mathrm{T}$</td><td>$\\mathrm{T}$</td><td>$\\mathrm{T}$</td><td>$\\mathrm{T}$</td><td>$\\mathrm{T}$</td><td>$\\mathrm{T}$</td><td>$\\mathrm{T}$</td><td>$\\mathrm{T}$</td></tr><tr><td>$\\mathrm{F}$</td><td>$\\mathrm{T}$</td><td>$\\mathrm{F}$</td><td>$\\mathrm{F}$</td><td>$\\mathrm{F}$</td><td>$\\mathrm{F}$</td><td>$\\mathrm{T}$</td><td>$\\mathrm{T}$</td><td>$\\mathrm{T}$</td><td>$\\mathrm{T}$</td><td>$\\mathrm{F}$</td><td>$\\mathrm{F}$</td><td>$\\mathrm{F}$</td><td>$\\mathrm{F}$</td><td>$\\mathrm{T}$</td><td>$\\mathrm{T}$</td><td>$\\mathrm{T}$</td><td>$\\mathrm{T}$</td></tr><tr><td>$\\mathrm{T}$</td><td>$\\mathrm{F}$</td><td>$\\mathrm{F}$</td><td>$\\mathrm{F}$</td><td>$\\mathrm{T}$</td><td>$\\mathrm{T}$</td><td>$\\mathrm{F}$</td><td>$\\mathrm{F}$</td><td>$\\mathrm{T}$</td><td>$\\mathrm{T}$</td><td>$\\mathrm{F}$</td><td>$\\mathrm{F}$</td><td>$\\mathrm{T}$</td><td>$\\mathrm{T}$</td><td>$\\mathrm{F}$</td><td>$\\mathrm{F}$</td><td>$\\mathrm{T}$</td><td>$\\mathrm{T}$</td></tr><tr><td>$\\mathrm{T}$</td><td>$\\mathrm{T}$</td><td>$\\mathrm{F}$</td><td>$\\mathrm{T}$</td><td>$\\mathrm{F}$</td><td>$\\mathrm{T}$</td><td>$\\mathrm{F}$</td><td>$\\mathrm{T}$</td><td>$\\mathrm{F}$</td><td>$\\mathrm{T}$</td><td>$\\mathrm{F}$</td><td>$\\mathrm{T}$</td><td>$\\mathrm{F}$</td><td>$\\mathrm{T}$</td><td>$\\mathrm{F}$</td><td>$\\mathrm{T}$</td><td>$\\mathrm{F}$</td><td>$\\mathrm{T}$</td></tr></table>"
      ],
      "text/plain": [
       "[array(['$x_{1}$', '$x_{2}$', '$f_{5}$', '$f_{6}$', '$f_{7}$', '$f_{8}$',\n",
       "        '$f_{9}$', '$f_{10}$', '$f_{11}$', '$f_{12}$', '$f_{13}$',\n",
       "        '$f_{14}$', '$f_{15}$', '$f_{16}$', '$f_{17}$', '$f_{18}$',\n",
       "        '$f_{19}$', '$f_{20}$'], \n",
       "       dtype='|S21'),\n",
       " array(['$\\\\mathrm{F}$', '$\\\\mathrm{F}$', '$\\\\mathrm{F}$', '$\\\\mathrm{F}$',\n",
       "        '$\\\\mathrm{F}$', '$\\\\mathrm{F}$', '$\\\\mathrm{F}$', '$\\\\mathrm{F}$',\n",
       "        '$\\\\mathrm{F}$', '$\\\\mathrm{F}$', '$\\\\mathrm{T}$', '$\\\\mathrm{T}$',\n",
       "        '$\\\\mathrm{T}$', '$\\\\mathrm{T}$', '$\\\\mathrm{T}$', '$\\\\mathrm{T}$',\n",
       "        '$\\\\mathrm{T}$', '$\\\\mathrm{T}$'], \n",
       "       dtype='|S21'),\n",
       " array(['$\\\\mathrm{F}$', '$\\\\mathrm{T}$', '$\\\\mathrm{F}$', '$\\\\mathrm{F}$',\n",
       "        '$\\\\mathrm{F}$', '$\\\\mathrm{F}$', '$\\\\mathrm{T}$', '$\\\\mathrm{T}$',\n",
       "        '$\\\\mathrm{T}$', '$\\\\mathrm{T}$', '$\\\\mathrm{F}$', '$\\\\mathrm{F}$',\n",
       "        '$\\\\mathrm{F}$', '$\\\\mathrm{F}$', '$\\\\mathrm{T}$', '$\\\\mathrm{T}$',\n",
       "        '$\\\\mathrm{T}$', '$\\\\mathrm{T}$'], \n",
       "       dtype='|S21'),\n",
       " array(['$\\\\mathrm{T}$', '$\\\\mathrm{F}$', '$\\\\mathrm{F}$', '$\\\\mathrm{F}$',\n",
       "        '$\\\\mathrm{T}$', '$\\\\mathrm{T}$', '$\\\\mathrm{F}$', '$\\\\mathrm{F}$',\n",
       "        '$\\\\mathrm{T}$', '$\\\\mathrm{T}$', '$\\\\mathrm{F}$', '$\\\\mathrm{F}$',\n",
       "        '$\\\\mathrm{T}$', '$\\\\mathrm{T}$', '$\\\\mathrm{F}$', '$\\\\mathrm{F}$',\n",
       "        '$\\\\mathrm{T}$', '$\\\\mathrm{T}$'], \n",
       "       dtype='|S21'),\n",
       " array(['$\\\\mathrm{T}$', '$\\\\mathrm{T}$', '$\\\\mathrm{F}$', '$\\\\mathrm{T}$',\n",
       "        '$\\\\mathrm{F}$', '$\\\\mathrm{T}$', '$\\\\mathrm{F}$', '$\\\\mathrm{T}$',\n",
       "        '$\\\\mathrm{F}$', '$\\\\mathrm{T}$', '$\\\\mathrm{F}$', '$\\\\mathrm{T}$',\n",
       "        '$\\\\mathrm{F}$', '$\\\\mathrm{T}$', '$\\\\mathrm{F}$', '$\\\\mathrm{T}$',\n",
       "        '$\\\\mathrm{F}$', '$\\\\mathrm{T}$'], \n",
       "       dtype='|S21')]"
      ]
     },
     "execution_count": 84,
     "metadata": {},
     "output_type": "execute_result"
    }
   ],
   "source": [
    "boolTab(2)"
   ]
  },
  {
   "cell_type": "markdown",
   "metadata": {},
   "source": [
    "There are many more functions with three and more arguments which makes the explicit function definition impractical. Instead we will define more complex functions in terms of simpler functions. Consider the following function."
   ]
  },
  {
   "cell_type": "code",
   "execution_count": 103,
   "metadata": {
    "collapsed": false
   },
   "outputs": [
    {
     "data": {
      "text/html": [
       "<table><tr><td>$x_{1}$</td><td>$\\mathrm{F}$</td><td>$\\mathrm{F}$</td><td>$\\mathrm{F}$</td><td>$\\mathrm{F}$</td><td>$\\mathrm{T}$</td><td>$\\mathrm{T}$</td><td>$\\mathrm{T}$</td><td>$\\mathrm{T}$</td></tr><tr><td>$x_{2}$</td><td>$\\mathrm{F}$</td><td>$\\mathrm{F}$</td><td>$\\mathrm{T}$</td><td>$\\mathrm{T}$</td><td>$\\mathrm{F}$</td><td>$\\mathrm{F}$</td><td>$\\mathrm{T}$</td><td>$\\mathrm{T}$</td></tr><tr><td>$x_{3}$</td><td>$\\mathrm{F}$</td><td>$\\mathrm{T}$</td><td>$\\mathrm{F}$</td><td>$\\mathrm{T}$</td><td>$\\mathrm{F}$</td><td>$\\mathrm{T}$</td><td>$\\mathrm{F}$</td><td>$\\mathrm{T}$</td></tr><tr><td>$f_{21}$</td><td>$\\mathrm{F}$</td><td>$\\mathrm{F}$</td><td>$\\mathrm{F}$</td><td>$\\mathrm{T}$</td><td>$\\mathrm{F}$</td><td>$\\mathrm{T}$</td><td>$\\mathrm{F}$</td><td>$\\mathrm{F}$</td></tr></table>"
      ],
      "text/plain": [
       "[array(['$x_{1}$', '$\\\\mathrm{F}$', '$\\\\mathrm{F}$', '$\\\\mathrm{F}$',\n",
       "        '$\\\\mathrm{F}$', '$\\\\mathrm{T}$', '$\\\\mathrm{T}$', '$\\\\mathrm{T}$',\n",
       "        '$\\\\mathrm{T}$'], \n",
       "       dtype='|S21'),\n",
       " array(['$x_{2}$', '$\\\\mathrm{F}$', '$\\\\mathrm{F}$', '$\\\\mathrm{T}$',\n",
       "        '$\\\\mathrm{T}$', '$\\\\mathrm{F}$', '$\\\\mathrm{F}$', '$\\\\mathrm{T}$',\n",
       "        '$\\\\mathrm{T}$'], \n",
       "       dtype='|S21'),\n",
       " array(['$x_{3}$', '$\\\\mathrm{F}$', '$\\\\mathrm{T}$', '$\\\\mathrm{F}$',\n",
       "        '$\\\\mathrm{T}$', '$\\\\mathrm{F}$', '$\\\\mathrm{T}$', '$\\\\mathrm{F}$',\n",
       "        '$\\\\mathrm{T}$'], \n",
       "       dtype='|S21'),\n",
       " array(['$f_{21}$', '$\\\\mathrm{F}$', '$\\\\mathrm{F}$', '$\\\\mathrm{F}$',\n",
       "        '$\\\\mathrm{T}$', '$\\\\mathrm{F}$', '$\\\\mathrm{T}$', '$\\\\mathrm{F}$',\n",
       "        '$\\\\mathrm{F}$'], \n",
       "       dtype='|S21')]"
      ]
     },
     "execution_count": 103,
     "metadata": {},
     "output_type": "execute_result"
    }
   ],
   "source": [
    "c=np.array(boolTab(3))\n",
    "ListTable(np.concatenate([c[:,:3].T,[c[:,23]]],0))"
   ]
  },
  {
   "cell_type": "markdown",
   "metadata": {},
   "source": [
    "Then we can write $f_{21}(x_1,x_2,x_3)= f_{12}( f_6(f_6(f_3(x_1),x_2),x_3),f_6(f_6(x_1,f_3(x_2)),x_3))$. You are not supposed to understand how we came up with this formula or to immediately see that it is correct. You can check the correctness by evaluating both the left and right side of the equation for each of the eight cases listed in the table above. To understand the equation we need to make the notation more human. Fortunately some of the functions are quite well known and have their abbreviations. \n",
    "\n",
    " * $f_3$ negates/reverses the input is called negation. Abreviate $\\neg$. Write as prefix $\\neg x$. \n",
    " * $f_6$ is true when both variables are true and it's called conjunction or logical and. Abreviate $\\wedge$. Write as infix $x \\wedge y$\n",
    " * $f_{12}$ is true when at least one variable is true and it's called disjunction or logical or. Abreviate $\\vee$. Write as infix $x \\vee y$.\n",
    " * $f_{14}$ is called equality.  Abreviate $\\Leftrightarrow$. Write as infix $x \\Leftrightarrow y$.\n",
    " * $f_{17}$ is called implication.  Abreviate $\\Rightarrow$. Write as infix $x \\Rightarrow y$.\n",
    " \n",
    "With these abbreviations at hand we simplify $f_{21}(x_1,x_2,x_3)\\Leftrightarrow (((\\neg x_1) \\wedge x_2) \\wedge x_3) \\vee (( x_1 \\wedge (\\neg x_2)) \\wedge x_3)$. We simplify the notation even further by assuming that evaluation of $\\neg$ has precedence over $\\wedge$ which in turn has precedence over $\\vee$. Than we write $f_{21}(x_1,x_2,x_3)= \\neg x_1 \\wedge x_2 \\wedge x_3 \\vee x_1 \\wedge \\neg x_2 \\wedge x_3$. Sometimes, to improve readability or to alert the reader to an interesting regularity we may wish to add brackets. Example  $f_{21}(x_1,x_2,x_3)= (\\neg x_1 \\wedge x_2 \\wedge x_3) \\vee (x_1 \\wedge \\neg x_2 \\wedge x_3)$. The brackets should alert you to an interesting connection between the formula and the table above. For each explicit function definition (such as with the help of table) we have a rule to derive a definition in terms of the functions $\\vee$, $\\neg$ and $\\wedge$ regardless of the number of variables. The rule is as follows. For each column where the function has $\\mathrm{T}$ create a conjunction terms $x_1 \\wedge \\dots \\wedge x_n$ and prepend each $x_i$ with $\\neg$ if $x_i$ in has $\\mathrm{F}$ in that particular column. Then connect these conjunctions terms with disjunction. This is a great result, because it tells us that all we need to know is $\\vee$, $\\neg$ and $\\wedge$  in order to write each function. Note that the above procedure does not necessary write the only formula or the shortest formula. $f_{21}(x_1,x_2,x_3)\\Leftrightarrow (\\neg x_1 \\wedge x_2 \\vee x_1 \\wedge \\neg x_2) \\wedge x_3$ or $f_{21}(x_1,x_2,x_3)= f_{11}(x_1,x_2) \\wedge x_3$ do the job but have fewer terms."
   ]
  },
  {
   "cell_type": "markdown",
   "metadata": {
    "collapsed": true
   },
   "source": [
    "Next we consider inference. For this purpose we introduce a new function $B(H \\dashv G_1, \\dots, G_n)$ called sequent. Sequent takes boolean expressions $G_1, \\dots, G_n$ and $Y$ as input and tells us whether $H$ is a syntactic consequence from  $G_1, \\dots, G_n$. Expresion is any valid boolean syntax build from boolean functions, boolean values or boolean variables. Note that expressions are syntactic units and for instance $f_{21}(x_1,x_2,x_3)\\Leftrightarrow (\\neg x_1 \\wedge x_2 \\vee x_1 \\wedge \\neg x_2) \\wedge x_3$ and $f_{21}(x_1,x_2,x_3)\\Leftrightarrow f_{11}(x_1,x_2) \\wedge x_3$ are two different expressions even though in the context of our exposition they mean the same thing and both are true. $x_1 \\wedge x_2$ and $x_2 \\wedge x_1$ are also two different expressions. The output of sequent function is either $\\mathrm{True}$, $\\mathrm{False}$ or $\\mathrm{Undefined}$.  To obtain the output we evaluate $G_1 \\wedge \\dots \\wedge G_n$ and $H$ by plugging all combinations of $\\mathrm{True}$ and $\\mathrm{False}$ into variables that are included in these expresions much like we did when evaluating functions. \n",
    " * If $G_1 \\wedge \\dots \\wedge G_n \\Leftrightarrow \\mathrm{False}$ then $B(H \\dashv G_1, \\dots, G_n)=\\mathrm{Undefined}$\n",
    " * Next we find all $x_1, \\dots, x_n$ for which $G_1 \\wedge \\dots \\wedge G_n \\Leftrightarrow \\mathrm{True}$. If for each such $x_1, \\dots, x_n$ we also have $H \\Leftrightarrow \\mathrm{True}$ then $B(H \\dashv G_1, \\dots, G_n)=\\mathrm{True}$.\n",
    " * If none of the above is the case then $B(H \\dashv G_1, \\dots, G_n)=\\mathrm{False}$\n",
    " \n",
    "Examples:\n",
    " 1. $B(x_1 \\wedge x_2 \\dashv x_1)=\\mathrm{False}$\n",
    " 2. $B(x_1 \\vee x_2 \\dashv x_1)=\\mathrm{True}$\n",
    " 3. $B(x_2 \\dashv x_1, \\neg x_1)=\\mathrm{Undefined}$\n",
    " 4. $B(x_2 \\wedge x_1 \\dashv x_1 \\wedge x_2)=\\mathrm{True}$\n",
    " 5. $B(x_1 \\dashv x_1 \\wedge x_1)=\\mathrm{True}$\n",
    " 6. $B(\\neg( x_1 \\wedge x_2) \\dashv \\neg x_1 \\vee \\neg x_2)=\\mathrm{True}$\n",
    " 7. $B(x_2 \\dashv x_1,x_1 \\Rightarrow x_2)=\\mathrm{True}$\n",
    " 8. $B(\\neg x_1 \\dashv \\neg x_2,x_1 \\Rightarrow x_2)=\\mathrm{True}$\n",
    " 9. $B(\\neg x_2 \\dashv x_1,x_1 \\Rightarrow \\neg x_3,x_2 \\Rightarrow x_3)=\\mathrm{True}$\n",
    " \n",
    "The above-mentioned method of evaluating $B$ corresponds to explicit function definition. This method becomes cumbersome with many variables. A better option is to express $B$ as a conjuction of multiple simpler $B$ assertions. This is also a good option because we don't want to prove trivial assertion like 1. or 8. every time we derive a syntactic consequence. Instead rules like 1. and 8. are generally acknowledged and pointing out the name of these rules is sufficient. As an example of decomposition: \n",
    "\n",
    "$B(\\neg x_2 \\dashv x_1,x_1 \\Rightarrow \\neg x_3,x_2 \\Rightarrow x_3)=B(\\neg x_2 \\dashv \\neg x_3,x_2 \\Rightarrow x_3) \\wedge B(\\neg x_3 \\dashv x_1,x_1 \\Rightarrow \\neg x_3)$\n",
    "The two terms in the decomposition follow from modus ponnens and modus tollens respectively and hence the rule 9 is their consequence."
   ]
  },
  {
   "cell_type": "markdown",
   "metadata": {
    "collapsed": true
   },
   "source": [
    "Here are some general rules for decomposition.\n",
    "\n",
    "$B(H\\dashv G_1, \\dots, G_n)=B(H\\dashv G_1, \\dots, G_n,F) \\wedge B(F\\dashv G_1, \\dots, G_n)$\n",
    "$B(\\neg H \\dashv G_1, \\dots, G_n)=\\neg B((H\\dashv G_1, \\dots, G_n)$\n",
    "$B(H_1 \\wedge H_2 \\dashv G_1, \\dots, G_n)=B(H_1 \\dashv G_1, \\dots, G_n)\\wedge B(H_2 \\dashv G_1, \\dots, G_n)$\n",
    "\n",
    "and in general $B(f(H_1,\\dots, H_n) \\dashv G_1, \\dots, G_n)=f(B(H_1 \\dashv G_1, \\dots, G_n), \\dots,  B(H_n \\dashv G_1, \\dots, G_n))$\n",
    "\n",
    "The decompositon rules and the well known rules can be used to derive novel consequences from observations. \n",
    "\n",
    "We need to specify how the boolean functions behave if they receive $\\mathrm{Undefined}$ as input. We assume that $\\mathrm{Undefined}$ is contagous. If $i$ ($i=1,\\dots , n$) exists with $x_i=\\mathrm{Undefined}$ then $f(x_1, \\dots , x_n)=\\mathrm{Undefined}$. If hadn't include $\\mathrm{Undefined}$ we could have just used $\\Rightarrow$, $\\Leftrightarrow$ or $\\wedge$ instead of $\\dashv$. However, for instance $x_1 \\wedge \\neg x_1 \\Rightarrow H$ is $\\mathrm{True}$ irrespective of $H$. This is a situation we want to avoid. \n",
    "\n",
    "Here are some examples:\n",
    "\n",
    "To apply the boolean algebra to the models that we considered in the previous section, we can introduce two additional functions $=$, $\\neq$ , $>$ and $<$ which take two numbers and produce boolean value. \n",
    "\n",
    "Examples:"
   ]
  },
  {
   "cell_type": "markdown",
   "metadata": {},
   "source": [
    "# Probability theory\n",
    "\n",
    "The boolean algebra is not what we want. The language works only with expressions which say that some statement or event is true or false. However in as scientists we wish to assing statements a continuous value that quentifies the uncertainty of that statement. The motivation for this is that the statements that we are considering are models - abstractions that neglect some details about the world. Consider observation of four variable"
   ]
  },
  {
   "cell_type": "code",
   "execution_count": null,
   "metadata": {
    "collapsed": true
   },
   "outputs": [],
   "source": []
  }
 ],
 "metadata": {
  "kernelspec": {
   "display_name": "Python 2",
   "language": "python",
   "name": "python2"
  },
  "language_info": {
   "codemirror_mode": {
    "name": "ipython",
    "version": 2
   },
   "file_extension": ".py",
   "mimetype": "text/x-python",
   "name": "python",
   "nbconvert_exporter": "python",
   "pygments_lexer": "ipython2",
   "version": "2.7.10"
  }
 },
 "nbformat": 4,
 "nbformat_minor": 0
}
