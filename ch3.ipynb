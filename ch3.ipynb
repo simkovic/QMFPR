{
 "cells": [
  {
   "cell_type": "markdown",
   "metadata": {},
   "source": [
    "We already obtained a language to talk about cognitive models and hence to express our domain-specific knowledge about cognition. In this and in the next section we will introduce two additional languages. The language of this section will tell us how data inform our domain-specific knowledge. This task is called inference and is most commonly attributed to statistics. The language we will learn in this section is called Probability Theory. \n",
    "\n",
    "Before we turn to probability we will survey one additional language. We won't use this language for data analysis. The main purpose of this digression is to provide you with an understanding of what a language is, what it does for you and by extension what probability theory is and what it does for you. We will discuss propositional logic. Propisitional logic is very simple which makes easy to grasp, easy to extend and useless at the same time. "
   ]
  },
  {
   "cell_type": "code",
   "execution_count": 94,
   "metadata": {
    "collapsed": false
   },
   "outputs": [
    {
     "name": "stdout",
     "output_type": "stream",
     "text": [
      "Populating the interactive namespace from numpy and matplotlib\n"
     ]
    }
   ],
   "source": [
    "%pylab inline\n",
    "from matustools.matustats import latinSquare\n",
    "\n",
    "class ListTable(list):\n",
    "    \"\"\" Overridden list class which takes a 2-dimensional list of \n",
    "        the form [[1,2,3],[4,5,6]], and renders an HTML Table in \n",
    "        IPython Notebook. \"\"\"\n",
    "    def _repr_html_(self):\n",
    "        html = [\"<table>\"]\n",
    "        for row in self:\n",
    "            html.append(\"<tr>\")\n",
    "            \n",
    "            for col in row:\n",
    "                html.append(\"<td>{0}</td>\".format(col))\n",
    "            \n",
    "            html.append(\"</tr>\")\n",
    "        html.append(\"</table>\")\n",
    "        return ''.join(html)\n",
    "\n",
    "\n",
    "def boolTab(N=1):\n",
    "    header=[]\n",
    "    for n in range(N): header.append('$x_{'+str(n+1)+'}$')\n",
    "    for k in range(2**(2**N)):\n",
    "        header.append('$f_{'+str(k+1+(N==2)*4)+'}$')\n",
    "    a=latinSquare(N)\n",
    "    b=latinSquare(2**N)\n",
    "    c=np.concatenate([a,b.T],axis=1)\n",
    "    c=np.array(c,dtype=np.str)\n",
    "    c[c=='1']='$\\mathrm{T}$'\n",
    "    c[c=='0']='$\\mathrm{F}$'\n",
    "    return ListTable(np.concatenate([[header],c]))"
   ]
  },
  {
   "cell_type": "markdown",
   "metadata": {},
   "source": [
    "Propositional logic is a language that operates with boolean values. We will use the mathematical notation we learned in the previous section talk about it. We consider boolean variables which can only take two values $\\mathrm{True}$ and $\\mathrm{False}$ which we will abbreviate to $\\mathrm{T}$ and $\\mathrm{F}$. We consider functions that have boolean variables as an input and output. There are not many of them. There are only four functions with a single argument."
   ]
  },
  {
   "cell_type": "code",
   "execution_count": 83,
   "metadata": {
    "collapsed": false
   },
   "outputs": [
    {
     "data": {
      "text/html": [
       "<table><tr><td>$x_{1}$</td><td>$f_{1}$</td><td>$f_{2}$</td><td>$f_{3}$</td><td>$f_{4}$</td></tr><tr><td>$\\mathrm{F}$</td><td>$\\mathrm{F}$</td><td>$\\mathrm{F}$</td><td>$\\mathrm{T}$</td><td>$\\mathrm{T}$</td></tr><tr><td>$\\mathrm{T}$</td><td>$\\mathrm{F}$</td><td>$\\mathrm{T}$</td><td>$\\mathrm{F}$</td><td>$\\mathrm{T}$</td></tr></table>"
      ],
      "text/plain": [
       "[array(['$x_{1}$', '$f_{1}$', '$f_{2}$', '$f_{3}$', '$f_{4}$'], \n",
       "       dtype='|S21'),\n",
       " array(['$\\\\mathrm{F}$', '$\\\\mathrm{F}$', '$\\\\mathrm{F}$', '$\\\\mathrm{T}$',\n",
       "        '$\\\\mathrm{T}$'], \n",
       "       dtype='|S21'),\n",
       " array(['$\\\\mathrm{T}$', '$\\\\mathrm{F}$', '$\\\\mathrm{T}$', '$\\\\mathrm{F}$',\n",
       "        '$\\\\mathrm{T}$'], \n",
       "       dtype='|S21')]"
      ]
     },
     "execution_count": 83,
     "metadata": {},
     "output_type": "execute_result"
    }
   ],
   "source": [
    "boolTab(1)"
   ]
  },
  {
   "cell_type": "markdown",
   "metadata": {},
   "source": [
    "The first row lists two possible input values and the remaining four columns list all possible outputs for those inputs. There are sixteen functions with two arguments."
   ]
  },
  {
   "cell_type": "code",
   "execution_count": 84,
   "metadata": {
    "collapsed": false
   },
   "outputs": [
    {
     "data": {
      "text/html": [
       "<table><tr><td>$x_{1}$</td><td>$x_{2}$</td><td>$f_{5}$</td><td>$f_{6}$</td><td>$f_{7}$</td><td>$f_{8}$</td><td>$f_{9}$</td><td>$f_{10}$</td><td>$f_{11}$</td><td>$f_{12}$</td><td>$f_{13}$</td><td>$f_{14}$</td><td>$f_{15}$</td><td>$f_{16}$</td><td>$f_{17}$</td><td>$f_{18}$</td><td>$f_{19}$</td><td>$f_{20}$</td></tr><tr><td>$\\mathrm{F}$</td><td>$\\mathrm{F}$</td><td>$\\mathrm{F}$</td><td>$\\mathrm{F}$</td><td>$\\mathrm{F}$</td><td>$\\mathrm{F}$</td><td>$\\mathrm{F}$</td><td>$\\mathrm{F}$</td><td>$\\mathrm{F}$</td><td>$\\mathrm{F}$</td><td>$\\mathrm{T}$</td><td>$\\mathrm{T}$</td><td>$\\mathrm{T}$</td><td>$\\mathrm{T}$</td><td>$\\mathrm{T}$</td><td>$\\mathrm{T}$</td><td>$\\mathrm{T}$</td><td>$\\mathrm{T}$</td></tr><tr><td>$\\mathrm{F}$</td><td>$\\mathrm{T}$</td><td>$\\mathrm{F}$</td><td>$\\mathrm{F}$</td><td>$\\mathrm{F}$</td><td>$\\mathrm{F}$</td><td>$\\mathrm{T}$</td><td>$\\mathrm{T}$</td><td>$\\mathrm{T}$</td><td>$\\mathrm{T}$</td><td>$\\mathrm{F}$</td><td>$\\mathrm{F}$</td><td>$\\mathrm{F}$</td><td>$\\mathrm{F}$</td><td>$\\mathrm{T}$</td><td>$\\mathrm{T}$</td><td>$\\mathrm{T}$</td><td>$\\mathrm{T}$</td></tr><tr><td>$\\mathrm{T}$</td><td>$\\mathrm{F}$</td><td>$\\mathrm{F}$</td><td>$\\mathrm{F}$</td><td>$\\mathrm{T}$</td><td>$\\mathrm{T}$</td><td>$\\mathrm{F}$</td><td>$\\mathrm{F}$</td><td>$\\mathrm{T}$</td><td>$\\mathrm{T}$</td><td>$\\mathrm{F}$</td><td>$\\mathrm{F}$</td><td>$\\mathrm{T}$</td><td>$\\mathrm{T}$</td><td>$\\mathrm{F}$</td><td>$\\mathrm{F}$</td><td>$\\mathrm{T}$</td><td>$\\mathrm{T}$</td></tr><tr><td>$\\mathrm{T}$</td><td>$\\mathrm{T}$</td><td>$\\mathrm{F}$</td><td>$\\mathrm{T}$</td><td>$\\mathrm{F}$</td><td>$\\mathrm{T}$</td><td>$\\mathrm{F}$</td><td>$\\mathrm{T}$</td><td>$\\mathrm{F}$</td><td>$\\mathrm{T}$</td><td>$\\mathrm{F}$</td><td>$\\mathrm{T}$</td><td>$\\mathrm{F}$</td><td>$\\mathrm{T}$</td><td>$\\mathrm{F}$</td><td>$\\mathrm{T}$</td><td>$\\mathrm{F}$</td><td>$\\mathrm{T}$</td></tr></table>"
      ],
      "text/plain": [
       "[array(['$x_{1}$', '$x_{2}$', '$f_{5}$', '$f_{6}$', '$f_{7}$', '$f_{8}$',\n",
       "        '$f_{9}$', '$f_{10}$', '$f_{11}$', '$f_{12}$', '$f_{13}$',\n",
       "        '$f_{14}$', '$f_{15}$', '$f_{16}$', '$f_{17}$', '$f_{18}$',\n",
       "        '$f_{19}$', '$f_{20}$'], \n",
       "       dtype='|S21'),\n",
       " array(['$\\\\mathrm{F}$', '$\\\\mathrm{F}$', '$\\\\mathrm{F}$', '$\\\\mathrm{F}$',\n",
       "        '$\\\\mathrm{F}$', '$\\\\mathrm{F}$', '$\\\\mathrm{F}$', '$\\\\mathrm{F}$',\n",
       "        '$\\\\mathrm{F}$', '$\\\\mathrm{F}$', '$\\\\mathrm{T}$', '$\\\\mathrm{T}$',\n",
       "        '$\\\\mathrm{T}$', '$\\\\mathrm{T}$', '$\\\\mathrm{T}$', '$\\\\mathrm{T}$',\n",
       "        '$\\\\mathrm{T}$', '$\\\\mathrm{T}$'], \n",
       "       dtype='|S21'),\n",
       " array(['$\\\\mathrm{F}$', '$\\\\mathrm{T}$', '$\\\\mathrm{F}$', '$\\\\mathrm{F}$',\n",
       "        '$\\\\mathrm{F}$', '$\\\\mathrm{F}$', '$\\\\mathrm{T}$', '$\\\\mathrm{T}$',\n",
       "        '$\\\\mathrm{T}$', '$\\\\mathrm{T}$', '$\\\\mathrm{F}$', '$\\\\mathrm{F}$',\n",
       "        '$\\\\mathrm{F}$', '$\\\\mathrm{F}$', '$\\\\mathrm{T}$', '$\\\\mathrm{T}$',\n",
       "        '$\\\\mathrm{T}$', '$\\\\mathrm{T}$'], \n",
       "       dtype='|S21'),\n",
       " array(['$\\\\mathrm{T}$', '$\\\\mathrm{F}$', '$\\\\mathrm{F}$', '$\\\\mathrm{F}$',\n",
       "        '$\\\\mathrm{T}$', '$\\\\mathrm{T}$', '$\\\\mathrm{F}$', '$\\\\mathrm{F}$',\n",
       "        '$\\\\mathrm{T}$', '$\\\\mathrm{T}$', '$\\\\mathrm{F}$', '$\\\\mathrm{F}$',\n",
       "        '$\\\\mathrm{T}$', '$\\\\mathrm{T}$', '$\\\\mathrm{F}$', '$\\\\mathrm{F}$',\n",
       "        '$\\\\mathrm{T}$', '$\\\\mathrm{T}$'], \n",
       "       dtype='|S21'),\n",
       " array(['$\\\\mathrm{T}$', '$\\\\mathrm{T}$', '$\\\\mathrm{F}$', '$\\\\mathrm{T}$',\n",
       "        '$\\\\mathrm{F}$', '$\\\\mathrm{T}$', '$\\\\mathrm{F}$', '$\\\\mathrm{T}$',\n",
       "        '$\\\\mathrm{F}$', '$\\\\mathrm{T}$', '$\\\\mathrm{F}$', '$\\\\mathrm{T}$',\n",
       "        '$\\\\mathrm{F}$', '$\\\\mathrm{T}$', '$\\\\mathrm{F}$', '$\\\\mathrm{T}$',\n",
       "        '$\\\\mathrm{F}$', '$\\\\mathrm{T}$'], \n",
       "       dtype='|S21')]"
      ]
     },
     "execution_count": 84,
     "metadata": {},
     "output_type": "execute_result"
    }
   ],
   "source": [
    "boolTab(2)"
   ]
  },
  {
   "cell_type": "markdown",
   "metadata": {},
   "source": [
    "There are many more functions with three and more arguments which makes the explicit function definition impractical. Instead we will define more complex functions in terms of simpler functions. Consider the following function."
   ]
  },
  {
   "cell_type": "code",
   "execution_count": 103,
   "metadata": {
    "collapsed": false
   },
   "outputs": [
    {
     "data": {
      "text/html": [
       "<table><tr><td>$x_{1}$</td><td>$\\mathrm{F}$</td><td>$\\mathrm{F}$</td><td>$\\mathrm{F}$</td><td>$\\mathrm{F}$</td><td>$\\mathrm{T}$</td><td>$\\mathrm{T}$</td><td>$\\mathrm{T}$</td><td>$\\mathrm{T}$</td></tr><tr><td>$x_{2}$</td><td>$\\mathrm{F}$</td><td>$\\mathrm{F}$</td><td>$\\mathrm{T}$</td><td>$\\mathrm{T}$</td><td>$\\mathrm{F}$</td><td>$\\mathrm{F}$</td><td>$\\mathrm{T}$</td><td>$\\mathrm{T}$</td></tr><tr><td>$x_{3}$</td><td>$\\mathrm{F}$</td><td>$\\mathrm{T}$</td><td>$\\mathrm{F}$</td><td>$\\mathrm{T}$</td><td>$\\mathrm{F}$</td><td>$\\mathrm{T}$</td><td>$\\mathrm{F}$</td><td>$\\mathrm{T}$</td></tr><tr><td>$f_{21}$</td><td>$\\mathrm{F}$</td><td>$\\mathrm{F}$</td><td>$\\mathrm{F}$</td><td>$\\mathrm{T}$</td><td>$\\mathrm{F}$</td><td>$\\mathrm{T}$</td><td>$\\mathrm{F}$</td><td>$\\mathrm{F}$</td></tr></table>"
      ],
      "text/plain": [
       "[array(['$x_{1}$', '$\\\\mathrm{F}$', '$\\\\mathrm{F}$', '$\\\\mathrm{F}$',\n",
       "        '$\\\\mathrm{F}$', '$\\\\mathrm{T}$', '$\\\\mathrm{T}$', '$\\\\mathrm{T}$',\n",
       "        '$\\\\mathrm{T}$'], \n",
       "       dtype='|S21'),\n",
       " array(['$x_{2}$', '$\\\\mathrm{F}$', '$\\\\mathrm{F}$', '$\\\\mathrm{T}$',\n",
       "        '$\\\\mathrm{T}$', '$\\\\mathrm{F}$', '$\\\\mathrm{F}$', '$\\\\mathrm{T}$',\n",
       "        '$\\\\mathrm{T}$'], \n",
       "       dtype='|S21'),\n",
       " array(['$x_{3}$', '$\\\\mathrm{F}$', '$\\\\mathrm{T}$', '$\\\\mathrm{F}$',\n",
       "        '$\\\\mathrm{T}$', '$\\\\mathrm{F}$', '$\\\\mathrm{T}$', '$\\\\mathrm{F}$',\n",
       "        '$\\\\mathrm{T}$'], \n",
       "       dtype='|S21'),\n",
       " array(['$f_{21}$', '$\\\\mathrm{F}$', '$\\\\mathrm{F}$', '$\\\\mathrm{F}$',\n",
       "        '$\\\\mathrm{T}$', '$\\\\mathrm{F}$', '$\\\\mathrm{T}$', '$\\\\mathrm{F}$',\n",
       "        '$\\\\mathrm{F}$'], \n",
       "       dtype='|S21')]"
      ]
     },
     "execution_count": 103,
     "metadata": {},
     "output_type": "execute_result"
    }
   ],
   "source": [
    "c=np.array(boolTab(3))\n",
    "ListTable(np.concatenate([c[:,:3].T,[c[:,23]]],0))"
   ]
  },
  {
   "cell_type": "markdown",
   "metadata": {},
   "source": [
    "Then we can write $f_{21}(x_1,x_2,x_3)= f_{12}( f_6(f_6(f_3(x_1),x_2),x_3),f_6(f_6(x_1,f_3(x_2)),x_3))$. You are not supposed to understand how we came up with this formula or to immediately see that it is correct. You can check the correctness by evaluating both the left and right side of the equation for each of the eight cases listed in the table above. To understand the equation we need to make the notation more human. Fortunately some of the functions are quite well known and have their abbreviations. \n",
    "\n",
    " * $f_3$ negates/reverses the input is called negation. Abreviate $\\neg$. Write as prefix $\\neg x$. \n",
    " * $f_$"
   ]
  },
  {
   "cell_type": "code",
   "execution_count": null,
   "metadata": {
    "collapsed": true
   },
   "outputs": [],
   "source": []
  }
 ],
 "metadata": {
  "kernelspec": {
   "display_name": "Python 2",
   "language": "python",
   "name": "python2"
  },
  "language_info": {
   "codemirror_mode": {
    "name": "ipython",
    "version": 2
   },
   "file_extension": ".py",
   "mimetype": "text/x-python",
   "name": "python",
   "nbconvert_exporter": "python",
   "pygments_lexer": "ipython2",
   "version": "2.7.10"
  }
 },
 "nbformat": 4,
 "nbformat_minor": 0
}
