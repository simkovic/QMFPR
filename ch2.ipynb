{
 "cells": [
  {
   "cell_type": "markdown",
   "metadata": {},
   "source": [
    "To create models of the nature we require a language in which these models will be formulated. The natural language that we use to communicate with other people is not suitable for this because it is not contextual and open to interpretation. The natural language may also lack important concepts. In particular we want models that afford prediction and that tells us about the necessary intervention. At the same time this language should be easy to to understand and to formulate. We may call these three criteria reproducibility, productivity and transparency. In this chapter we will learn such a language. \n",
    "\n",
    "A less exciting way to introduce this chapter is to say that the proper language to express our models is, as in the rest of the natural sciences, mathematics. This chapter provides self-contained introduction to mathematics that will be required in this book."
   ]
  },
  {
   "cell_type": "markdown",
   "metadata": {},
   "source": [
    "The building blocks a model are functions. A mathematical function is a mapping from one set of elements (inputs) to another set of elements (outputs). Each function has a name (usually a string of alphabetic characters), e.g. $f,g,\\sin,\\max,\\mathrm{rand}$. Each function comes with a definition (let's call it skeleton) which tells us what the sets,which constitue the mapping, are. The sets we will consider are:\n",
    "\n",
    " $\\mathbb{B}$ - set of boolean values. This set has two elements $\\mathrm{True},\\mathrm{False}$.\n",
    " \n",
    " $\\mathbb{Z}$ - set of integer numbers. This set has infinite number of elements. Some examples are $-1, 0,42$.\n",
    " \n",
    " $\\mathbb{R}$ - set of real numbers. This set has infinite number of elements. Some examples are $0.21, \\frac{1}{3},\\pi$.\n",
    " \n",
    "The prescription of a function then lists two sets separated by an arrow $\\rightarrow$ where the set of outputs is located right of the arrow. Examples: $f: \\mathbb{R} \\rightarrow \\mathbb{R}$, $\\sin: \\mathbb{R} \\rightarrow \\mathbb{R}$. Sometimes we may wish to be more specific and provide a range $[l,u]$ where $l$ is the lower boundary and $u$ is an upper boundary. Example: $\\sin: \\mathbb{R} \\rightarrow [-1,1]$. This notation is somewhat sloppy because it's not clear whether the range is over real or integer values. When we want to be even more specific we may define a set by explicitly listing its elements. Example set $\\mathrm{gender}$ is $\\{\\mathrm{male},\\mathrm{female}\\}$\n",
    "\n",
    "A function has further a prescription or definition which tells us how to assign an output to each input. We will use generic names $x$ for input, $f$ for function and $f(x)$ for the output corresponding to $x$. A mathematical function does not allow every possible mapping. A mapping that maps a single input to multiple outputs is not a valid function. The easiest way to define a function is to list an output $y$ for each input $x$. Example 1: function $\\mathrm{ismale}$ provides output $\\mathrm{True}$ if the input is $\\mathrm{male}$ and $\\mathrm{False}$ otherwise. Example 2: $\\max(x,y)$ returns $y$ if $y>0$ and $x$ otherwise. If the input or the output set is large this approach is impractical (and unfeasable for infinite sets). Instead we define a function in terms of other functions. Examples: $f(x)=x+x$, $g(x)=2 f(x)^3$. Hybrid definition which provides a list of functional prescription and conditions under which each prescription applies are also common. Example: $f(x)=0$ for $x<0$ and $f(x)=x$ otherwise. Recursive definitions are also viable (if certain conditions are satisfied). Example: the $n$th Fibonacci number is given by $f(0)=0$, $f(1)=1$ and $f(x)=\\mathrm{fibonacci}(x-1)+\\mathrm{fibonacci}(x-2)$. \n",
    "\n",
    "The model is then given by a set of functions which describe the relationship between the observable variable. Here are some examples:\n",
    "\n",
    "speed distance time\n",
    "\n",
    "fechner law\n",
    "\n",
    "It's straightforward to make prediction and to determine interventions from the above models. \n",
    "\n",
    "The model language first requires an extension. "
   ]
  },
  {
   "cell_type": "markdown",
   "metadata": {},
   "source": [
    "multiple function argument, Linear algebra, vectors, matrices"
   ]
  },
  {
   "cell_type": "code",
   "execution_count": null,
   "metadata": {
    "collapsed": true
   },
   "outputs": [],
   "source": []
  }
 ],
 "metadata": {
  "kernelspec": {
   "display_name": "Python 2",
   "language": "python",
   "name": "python2"
  },
  "language_info": {
   "codemirror_mode": {
    "name": "ipython",
    "version": 2
   },
   "file_extension": ".py",
   "mimetype": "text/x-python",
   "name": "python",
   "nbconvert_exporter": "python",
   "pygments_lexer": "ipython2",
   "version": "2.7.10"
  }
 },
 "nbformat": 4,
 "nbformat_minor": 0
}
